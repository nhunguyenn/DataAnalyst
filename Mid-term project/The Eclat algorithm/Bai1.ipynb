{
  "nbformat": 4,
  "nbformat_minor": 0,
  "metadata": {
    "colab": {
      "name": "Bai1.ipynb",
      "provenance": [],
      "collapsed_sections": []
    },
    "kernelspec": {
      "name": "python3",
      "display_name": "Python 3"
    },
    "language_info": {
      "name": "python"
    }
  },
  "cells": [
    {
      "cell_type": "code",
      "source": [
        "import pandas as pd\n",
        "import numpy as np\n",
        "import csv\n",
        "import itertools\n",
        "r = 0\n",
        "trans=[]\n",
        "d=[]\n",
        "# Đọc constraction từ file data.csv\n",
        "read = ''\n",
        "with open('/content/data.csv') as data:\n",
        "  read = csv.reader(data)\n",
        "  for row in read:\n",
        "    r = r+1\n",
        "    if(r>1):\n",
        "      d = row[0].split(',')\n",
        "      for i in d:\n",
        "        trans.append(i)\n",
        "      \n",
        "\n",
        "print(trans)\n",
        "transactions=[]\n",
        "# lấy ra từng item có trong trans\n",
        "for i in range(0, len(trans)):\n",
        "  transactions = set(transactions)|set(trans[i])\n",
        "item = set(transactions)\n",
        "\n",
        "print(item)\n",
        " # kết hợp các item với nhau\n",
        "Tidset=[]\n",
        "for i in range(0, len(item)-1):\n",
        "  list_temp = list(itertools.combinations(item, i+1))\n",
        "  for j in list_temp:\n",
        "    Tidset.append(j)\n",
        "list_id = list(Tidset)\n",
        "print(Tidset)\n",
        "\n",
        "# đổi Tidset từ kiểu list sang kiểu string\n",
        "s1=[]\n",
        "for i in Tidset:\n",
        "  # i1 = ' '.join(map(str, i))\n",
        "  a=''\n",
        "  for j in i:\n",
        "    a+=j\n",
        "  s1.append(a)\n",
        "\n",
        "print(s1)\n",
        "# nhập minSup\n",
        "minSup=int(input(\"nhập minSup: \"))\n",
        "minSup = minSup\n",
        "# tìm id của từng item có của s1\n",
        "vertical=[]\n",
        "l=[]\n",
        "F=[]\n",
        "for i in s1:\n",
        "  temp=[]\n",
        "  count=0\n",
        "  for j in trans:\n",
        "    count=count+1\n",
        "    if(j.count(i)>0):\n",
        "      temp.append(count)\n",
        "  #xét điều kiện minSup\n",
        "  if(len(temp)> minSup or len(temp)==minSup):\n",
        "    F.append(i)\n",
        "  vertical.append(i)\n",
        "print(vertical)\n",
        "Fre=[]\n",
        "Fre=list(set(F))\n",
        "print(Fre)\n",
        "\n"
      ],
      "metadata": {
        "colab": {
          "base_uri": "https://localhost:8080/"
        },
        "id": "Ugye881-tppa",
        "outputId": "ab29aebb-7cb7-45d8-a2d1-8c5dbbd0d197"
      },
      "execution_count": 132,
      "outputs": [
        {
          "output_type": "stream",
          "name": "stdout",
          "text": [
            "['ABDE', 'BCE', 'ABDE', 'ABCE', 'ABCDE', 'BCD']\n",
            "{'E', 'A', 'B', 'C', 'D'}\n",
            "[('E',), ('A',), ('B',), ('C',), ('D',), ('E', 'A'), ('E', 'B'), ('E', 'C'), ('E', 'D'), ('A', 'B'), ('A', 'C'), ('A', 'D'), ('B', 'C'), ('B', 'D'), ('C', 'D'), ('E', 'A', 'B'), ('E', 'A', 'C'), ('E', 'A', 'D'), ('E', 'B', 'C'), ('E', 'B', 'D'), ('E', 'C', 'D'), ('A', 'B', 'C'), ('A', 'B', 'D'), ('A', 'C', 'D'), ('B', 'C', 'D'), ('E', 'A', 'B', 'C'), ('E', 'A', 'B', 'D'), ('E', 'A', 'C', 'D'), ('E', 'B', 'C', 'D'), ('A', 'B', 'C', 'D')]\n",
            "['E', 'A', 'B', 'C', 'D', 'EA', 'EB', 'EC', 'ED', 'AB', 'AC', 'AD', 'BC', 'BD', 'CD', 'EAB', 'EAC', 'EAD', 'EBC', 'EBD', 'ECD', 'ABC', 'ABD', 'ACD', 'BCD', 'EABC', 'EABD', 'EACD', 'EBCD', 'ABCD']\n",
            "nhập minSup: 2\n",
            "['E', 'A', 'B', 'C', 'D', 'EA', 'EB', 'EC', 'ED', 'AB', 'AC', 'AD', 'BC', 'BD', 'CD', 'EAB', 'EAC', 'EAD', 'EBC', 'EBD', 'ECD', 'ABC', 'ABD', 'ACD', 'BCD', 'EABC', 'EABD', 'EACD', 'EBCD', 'ABCD']\n",
            "['E', 'BD', 'BCD', 'A', 'ABD', 'BC', 'D', 'CD', 'AB', 'ABC', 'C', 'B']\n"
          ]
        }
      ]
    },
    {
      "cell_type": "code",
      "source": [
        "from google.colab import drive\n",
        "drive.mount('/content/drive')"
      ],
      "metadata": {
        "id": "I_FiKbF369C7",
        "colab": {
          "base_uri": "https://localhost:8080/"
        },
        "outputId": "3f92ab12-8d6d-4b4d-eddb-ac839720ec86"
      },
      "execution_count": 20,
      "outputs": [
        {
          "output_type": "stream",
          "name": "stdout",
          "text": [
            "Drive already mounted at /content/drive; to attempt to forcibly remount, call drive.mount(\"/content/drive\", force_remount=True).\n"
          ]
        }
      ]
    },
    {
      "cell_type": "code",
      "source": [
        ""
      ],
      "metadata": {
        "id": "hBB81VvewfOE"
      },
      "execution_count": null,
      "outputs": []
    }
  ]
}